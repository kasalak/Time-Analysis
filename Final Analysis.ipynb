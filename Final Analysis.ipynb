{
 "cells": [
  {
   "cell_type": "code",
   "execution_count": 68,
   "metadata": {
    "collapsed": false
   },
   "outputs": [],
   "source": [
    "import pandas as pd\n",
    "import numpy as np\n",
    "import re\n",
    "import matplotlib.pyplot as plt\n",
    "%matplotlib inline\n",
    "\n",
    "from data_dictionary import *\n",
    "\n",
    "\n",
    "summary = pd.read_csv('data/atussum_2014.dat')\n",
    "\n",
    "summary = summary.rename(columns=renamed_columns)\n",
    "\n",
    "spectators = summary[[\n",
    "                     'id',\n",
    "                     'sex', \n",
    "                     'age',\n",
    "                     'Watching baseball',\n",
    "                     'Watching basketball',\n",
    "                     'Watching biking',\n",
    "                     'Watching billiards',\n",
    "                     'Watching boating',\n",
    "                     'Watching equestrian sports',\n",
    "                     'Watching football',\n",
    "                     'Watching golfing',\n",
    "                     'Watching gymnastics',\n",
    "                     'Watching hockey',\n",
    "                     'Watching racquet sports',\n",
    "                     'Watching rodeo competitions',\n",
    "                     'Watching running',\n",
    "                     'Watching soccer',\n",
    "                     'Watching softball',\n",
    "                     'Watching vehicle touring/racing',\n",
    "                     'Watching volleyball',\n",
    "                     'Watching water sports',\n",
    "                     'Watching people working out, unspecified',\n",
    "                     'Attending sporting events, n.e.c.*']]\n",
    "\n",
    "participants = summary[[ \n",
    "                         'id',\n",
    "                         'sex',\n",
    "                         'age',\n",
    "                         'Doing aerobics',\n",
    "                         'Playing baseball',\n",
    "                         'Playing basketball',\n",
    "                         'Biking',\n",
    "                         'Playing billiards',\n",
    "                         'Boating',\n",
    "                         'Bowling',\n",
    "                         'Climbing, spelunking, caving',\n",
    "                         'Dancing',\n",
    "                         'Participating in equestrian sports',\n",
    "                         'Fishing',\n",
    "                         'Playing football',\n",
    "                         'Golfing',\n",
    "                         'Doing gymnastics',\n",
    "                         'Hiking',\n",
    "                         'Playing hockey',\n",
    "                         'Hunting',\n",
    "                         'Participating in martial arts',\n",
    "                         'Playing racquet sports',\n",
    "                         'Rollerblading',\n",
    "                         'Running',\n",
    "                         'Skiing, ice skating, snowboarding',\n",
    "                         'Playing soccer',\n",
    "                         'Softball',\n",
    "                         'Using cardiovascular equipment',\n",
    "                         'Vehicle touring/racing',\n",
    "                         'Playing volleyball',\n",
    "                         'Walking',\n",
    "                         'Participating in water sports',\n",
    "                         'Weightlifting/strength training',\n",
    "                         'Working out, unspecified',\n",
    "                         'Doing yoga',\n",
    "                         'Playing sports n.e.c.*','Sports, exercise, & recreation, n.e.c.*']]\n"
   ]
  },
  {
   "cell_type": "markdown",
   "metadata": {},
   "source": [
    "# Analysis of Particular Relationships in ATUS Data\n",
    "\n",
    "I was partially inspired by collegiate and professional football this weekend, so I decided to figure out the breakdown of the participants and spectators of sports and other recreational activities by age and gender. I also wanted to see if there were any correlations that would indicate whether a certain age or gender would prefer a given activity. "
   ]
  },
  {
   "cell_type": "markdown",
   "metadata": {},
   "source": [
    "## Basic information:\n",
    "Spectators and participants are divided into ages classifications of child or adult, as well as the gender of female or male. Children are anyone under 18 years old, while adults are 18 and over. \n"
   ]
  },
  {
   "cell_type": "markdown",
   "metadata": {},
   "source": [
    "# Spectators:\n",
    "Of all the spectators, 3.48% are children, and 96.52% are adults; only the data regarding the adults will be used for determining differences, if any exist, between gender preference in sports watching.\n",
    "\n",
    "Of the adults, 42.24% are men and 54.29% are women."
   ]
  },
  {
   "cell_type": "code",
   "execution_count": 20,
   "metadata": {
    "collapsed": false
   },
   "outputs": [],
   "source": [
    "\n",
    "child_spectators = spectators[0 < participants.age]\n",
    "child_spectator = child_spectators[child_spectators.age < 18]\n",
    "adult_spectator = spectators[spectators.age > 17]\n",
    "adult_male_spectator = adult_spectator[adult_spectator.sex == 1]\n",
    "adult_female_spectator = adult_spectator[adult_spectator.sex == 2]"
   ]
  },
  {
   "cell_type": "code",
   "execution_count": 31,
   "metadata": {
    "collapsed": false
   },
   "outputs": [
    {
     "data": {
      "text/plain": [
       "96.52"
      ]
     },
     "execution_count": 31,
     "metadata": {},
     "output_type": "execute_result"
    }
   ],
   "source": [
    "round(len(child_spectator)/len(spectators)*100,2)\n",
    "round(len(adult_spectator)/len(spectators)*100,2)"
   ]
  },
  {
   "cell_type": "code",
   "execution_count": 32,
   "metadata": {
    "collapsed": false
   },
   "outputs": [
    {
     "data": {
      "text/plain": [
       "42.24"
      ]
     },
     "execution_count": 32,
     "metadata": {},
     "output_type": "execute_result"
    }
   ],
   "source": [
    "round(len(adult_male_spectator)/len(spectators)*100,2)"
   ]
  },
  {
   "cell_type": "code",
   "execution_count": 33,
   "metadata": {
    "collapsed": false
   },
   "outputs": [
    {
     "data": {
      "text/plain": [
       "54.29"
      ]
     },
     "execution_count": 33,
     "metadata": {},
     "output_type": "execute_result"
    }
   ],
   "source": [
    "round(len(adult_female_spectator)/len(spectators)*100,2)"
   ]
  },
  {
   "cell_type": "markdown",
   "metadata": {},
   "source": [
    "# Participants\n",
    "\n",
    "Strangely enough, the percentage of participants is broken down into the same ratio of children to adults as that of the spectators. "
   ]
  },
  {
   "cell_type": "code",
   "execution_count": 38,
   "metadata": {
    "collapsed": true
   },
   "outputs": [],
   "source": [
    "child_participants = participants[0 < participants.age]\n",
    "child_participant = child_participants[child_participants.age < 18]\n",
    "adult_participant = participants[participants.age > 17]\n",
    "adult_male_participant = adult_participant[adult_participant.sex == 1]\n",
    "adult_female_partipant = adult_participant[adult_participant.sex == 2]"
   ]
  },
  {
   "cell_type": "code",
   "execution_count": 46,
   "metadata": {
    "collapsed": false
   },
   "outputs": [
    {
     "data": {
      "text/plain": [
       "3.48"
      ]
     },
     "execution_count": 46,
     "metadata": {},
     "output_type": "execute_result"
    }
   ],
   "source": [
    "round(len(child_participant.age)/len(participants.age)*100,2)"
   ]
  },
  {
   "cell_type": "code",
   "execution_count": 76,
   "metadata": {
    "collapsed": false
   },
   "outputs": [
    {
     "ename": "AttributeError",
     "evalue": "'DataFrame' object has no attribute 'rows'",
     "output_type": "error",
     "traceback": [
      "\u001b[0;31m---------------------------------------------------------------------------\u001b[0m",
      "\u001b[0;31mAttributeError\u001b[0m                            Traceback (most recent call last)",
      "\u001b[0;32m<ipython-input-76-907275822a3f>\u001b[0m in \u001b[0;36m<module>\u001b[0;34m()\u001b[0m\n\u001b[1;32m     32\u001b[0m                          \u001b[0;34m'Doing yoga'\u001b[0m\u001b[0;34m,\u001b[0m\u001b[0;34m\u001b[0m\u001b[0m\n\u001b[1;32m     33\u001b[0m                          'Playing sports n.e.c.*','Sports, exercise, & recreation, n.e.c.*']]\n\u001b[0;32m---> 34\u001b[0;31m \u001b[0mfemale_participants\u001b[0m\u001b[0;34m.\u001b[0m\u001b[0mrows\u001b[0m\u001b[0;34m\u001b[0m\u001b[0m\n\u001b[0m",
      "\u001b[0;32m/Users/karthikkasala/tiy/week4/.direnv/python-3.4.3/lib/python3.4/site-packages/pandas/core/generic.py\u001b[0m in \u001b[0;36m__getattr__\u001b[0;34m(self, name)\u001b[0m\n\u001b[1;32m   2148\u001b[0m                 \u001b[0;32mreturn\u001b[0m \u001b[0mself\u001b[0m\u001b[0;34m[\u001b[0m\u001b[0mname\u001b[0m\u001b[0;34m]\u001b[0m\u001b[0;34m\u001b[0m\u001b[0m\n\u001b[1;32m   2149\u001b[0m             raise AttributeError(\"'%s' object has no attribute '%s'\" %\n\u001b[0;32m-> 2150\u001b[0;31m                                  (type(self).__name__, name))\n\u001b[0m\u001b[1;32m   2151\u001b[0m \u001b[0;34m\u001b[0m\u001b[0m\n\u001b[1;32m   2152\u001b[0m     \u001b[0;32mdef\u001b[0m \u001b[0m__setattr__\u001b[0m\u001b[0;34m(\u001b[0m\u001b[0mself\u001b[0m\u001b[0;34m,\u001b[0m \u001b[0mname\u001b[0m\u001b[0;34m,\u001b[0m \u001b[0mvalue\u001b[0m\u001b[0;34m)\u001b[0m\u001b[0;34m:\u001b[0m\u001b[0;34m\u001b[0m\u001b[0m\n",
      "\u001b[0;31mAttributeError\u001b[0m: 'DataFrame' object has no attribute 'rows'"
     ]
    }
   ],
   "source": [
    "female_participants = adult_female_partipant[['Doing aerobics',\n",
    "                         'Playing baseball',\n",
    "                         'Playing basketball',\n",
    "                         'Biking',\n",
    "                         'Playing billiards',\n",
    "                         'Boating',\n",
    "                         'Bowling',\n",
    "                         'Climbing, spelunking, caving',\n",
    "                         'Dancing',\n",
    "                         'Participating in equestrian sports',\n",
    "                         'Fishing',\n",
    "                         'Playing football',\n",
    "                         'Golfing',\n",
    "                         'Doing gymnastics',\n",
    "                         'Hiking',\n",
    "                         'Playing hockey',\n",
    "                         'Hunting',\n",
    "                         'Participating in martial arts',\n",
    "                         'Playing racquet sports',\n",
    "                         'Rollerblading',\n",
    "                         'Running',\n",
    "                         'Skiing, ice skating, snowboarding',\n",
    "                         'Playing soccer',\n",
    "                         'Softball',\n",
    "                         'Using cardiovascular equipment',\n",
    "                         'Vehicle touring/racing',\n",
    "                         'Playing volleyball',\n",
    "                         'Walking',\n",
    "                         'Participating in water sports',\n",
    "                         'Weightlifting/strength training',\n",
    "                         'Working out, unspecified',\n",
    "                         'Doing yoga',\n",
    "                         'Playing sports n.e.c.*','Sports, exercise, & recreation, n.e.c.*']"
   ]
  },
  {
   "cell_type": "code",
   "execution_count": null,
   "metadata": {
    "collapsed": true
   },
   "outputs": [],
   "source": [
    "female_participants.plot(kind='pie')"
   ]
  },
  {
   "cell_type": "code",
   "execution_count": null,
   "metadata": {
    "collapsed": true
   },
   "outputs": [],
   "source": []
  }
 ],
 "metadata": {
  "kernelspec": {
   "display_name": "Python 3",
   "language": "python",
   "name": "python3"
  },
  "language_info": {
   "codemirror_mode": {
    "name": "ipython",
    "version": 3
   },
   "file_extension": ".py",
   "mimetype": "text/x-python",
   "name": "python",
   "nbconvert_exporter": "python",
   "pygments_lexer": "ipython3",
   "version": "3.4.3"
  }
 },
 "nbformat": 4,
 "nbformat_minor": 0
}
